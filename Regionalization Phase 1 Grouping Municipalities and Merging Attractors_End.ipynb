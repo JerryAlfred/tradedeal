{
 "cells": [
  {
   "cell_type": "markdown",
   "metadata": {},
   "source": [
    "# Grouping municipalities and merging attractors\n",
    "\n",
    "In this script we group the municipalitites based their distance to the attractor municipalities and merge the existing groups based on any overlapping attractor municipalities that belong in multiple groups.\n",
    "\n",
    "In the first stage (before developing a time radius), we find a cartesian radius proportional to the area of each attractor municipality. We then find the municipalities that fall within a circle with such radius and center on the centroid of the attractor municipality. The output of this is a binary csv file with 1 signifying part of the region with the attractor municipality in the column heading and 0 otherwise.\n",
    "\n",
    "Secondly, we identify which attractor municipalities fall within the regionalization radius of other attractor municipalities. We update the output csv from before to have 2 signify an attractor municipality being within the regionalization radius of another attractor, 1 signify a non-attractor municipality being within region, and 0 otherwise. "
   ]
  },
  {
   "cell_type": "code",
   "execution_count": 1,
   "metadata": {},
   "outputs": [],
   "source": [
    "# Libraries\n",
    "\n",
    "import pandas as pd\n",
    "import geopandas as gpd\n",
    "import numpy as np\n",
    "import math\n",
    "\n",
    "import matplotlib\n",
    "import matplotlib.pyplot as plt\n",
    "\n",
    "from sklearn.cluster import KMeans\n",
    "from shapely.geometry import Polygon\n",
    "from sklearn.cluster import DBSCAN\n",
    "\n",
    "import pyproj    \n",
    "import shapely\n",
    "import shapely.ops as ops\n",
    "from shapely.geometry.polygon import Polygon\n",
    "from functools import partial\n",
    "\n",
    "import json\n",
    "from shapely.geometry import Point, mapping\n",
    "from shapely.ops import transform\n",
    "\n",
    "import operator\n",
    "\n",
    "import random "
   ]
  },
  {
   "cell_type": "markdown",
   "metadata": {},
   "source": [
    "# Paths and names"
   ]
  },
  {
   "cell_type": "code",
   "execution_count": 2,
   "metadata": {},
   "outputs": [],
   "source": [
    "# Define path of municipalities shape file\n",
    "\n",
    "# this is allison's path\n",
    "# entities_path = 'marco_geoestadistico_2018/'\n",
    "\n",
    "# this is jerry's path\n",
    "entities_path = '../marco_geoestadistico_2018/'\n"
   ]
  },
  {
   "cell_type": "code",
   "execution_count": 3,
   "metadata": {},
   "outputs": [],
   "source": [
    "# Define a dictionary to read the shape files\n",
    "\n",
    "entities= {\n",
    "    '01' :['01Ags','01_aguascalientes'],\n",
    "    '02' :['02BC','02_bajacalifornia'],\n",
    "    '03' :['03BCS','03_bajacaliforniasur'],\n",
    "    '04' :['04Camp', '04_campeche'],\n",
    "    '05' :['05Coah','05_coahuiladezaragoza'],\n",
    "    '06' :['06Col','06_colima'],\n",
    "    '07' :[ '07Chs','07_chiapas'],\n",
    "    '08' :['08Chih','08_chihuahua'],\n",
    "    '09' :['09CdMx','09_ciudaddemexico'],\n",
    "    '10' :['10Dur','10_durango'],\n",
    "    '11' :['11Gto', '11_guanajuato'],\n",
    "    '12' :['12Gro','12_guerrero'],\n",
    "    '13' :['13Hgo','13_hidalgo'],\n",
    "    '14' :['14Jal','14_jalisco'],\n",
    "    '15' :['15EdoMex','15_mexico'],\n",
    "    '16' :['16Mich','16_michoacandeocampo'],\n",
    "    '17' :['17Mor','17_morelos'],\n",
    "    '18' :['18Nay','18_nayarit'],\n",
    "    '19' :['19NL', '19_nuevoleon'],\n",
    "    '20' :['20Oax', '20_oaxaca'],\n",
    "    '21' :['21Pue', '21_puebla'],\n",
    "    '22' :['22Qro','22_queretaro'],\n",
    "    '23' :['23QRoo','23_quintanaroo'], \n",
    "    '24' :['24SLP','24_sanluispotosi'],\n",
    "    '25' :['25Sin','25_sinaloa'],\n",
    "    '26' :['26Son','26_sonora'],\n",
    "    '27' :['27Tab','27_tabasco'],\n",
    "    '28' :['28Tamps','28_tamaulipas'],\n",
    "    '29' :['29Tlax','29_tlaxcala'],\n",
    "    '30' :['30Ver','30_veracruzignaciodelallave'],\n",
    "    '31' :[ '31Yuc','31_yucatan'],\n",
    "    '32' :[ '32Zac','32_zacatecas']   \n",
    "}"
   ]
  },
  {
   "cell_type": "markdown",
   "metadata": {},
   "source": [
    "# Municipality shapefiles"
   ]
  },
  {
   "cell_type": "code",
   "execution_count": 4,
   "metadata": {},
   "outputs": [],
   "source": [
    "# Read in municipality shapefiles \n",
    "\n",
    "urban_shapes = []\n",
    "\n",
    "for i in range(1,33):\n",
    "    \n",
    "    a = str(i).zfill(2)\n",
    "    \n",
    "    urban_agebs = gpd.read_file(entities_path + entities[a][1]+'/conjunto de datos/'+entities[a][1][0:2]+'mun'+'.shp')\n",
    "    \n",
    "    urban_shapes.append(urban_agebs)\n",
    "    \n",
    "urban_shapes = pd.concat(urban_shapes)"
   ]
  },
  {
   "cell_type": "markdown",
   "metadata": {},
   "source": [
    "# Area and centroid calculations"
   ]
  },
  {
   "cell_type": "code",
   "execution_count": 5,
   "metadata": {},
   "outputs": [],
   "source": [
    "# Find area of all municipalities\n",
    "\n",
    "# Ensure projection consistency\n",
    "urban_shapes = urban_shapes.to_crs({'init' :'epsg:4326'})\n",
    "\n",
    "gs = gpd.GeoSeries(urban_shapes['geometry'])\n",
    "\n",
    "areas = []\n",
    "for i in gs:  \n",
    "    area = ops.transform(\n",
    "        partial(\n",
    "            pyproj.transform,\n",
    "            pyproj.Proj(init='EPSG:4326'),\n",
    "            pyproj.Proj(\n",
    "                proj='aea',\n",
    "                lat_1=i.bounds[1],\n",
    "                lat_2=i.bounds[3])),\n",
    "        i)\n",
    "    areas.append(area.area/1000000)\n",
    "    \n",
    "urban_shapes['area'] = areas"
   ]
  },
  {
   "cell_type": "code",
   "execution_count": 6,
   "metadata": {},
   "outputs": [],
   "source": [
    "# Find centroid of all municipalities\n",
    "\n",
    "centroid = gs.centroid\n",
    "urban_shapes['centroid'] = centroid"
   ]
  },
  {
   "cell_type": "markdown",
   "metadata": {},
   "source": [
    "# Radius calculations for attractor municipalities"
   ]
  },
  {
   "cell_type": "code",
   "execution_count": 7,
   "metadata": {},
   "outputs": [
    {
     "name": "stderr",
     "output_type": "stream",
     "text": [
      "/opt/anaconda3/lib/python3.7/site-packages/pandas/core/indexing.py:205: SettingWithCopyWarning: \n",
      "A value is trying to be set on a copy of a slice from a DataFrame\n",
      "\n",
      "See the caveats in the documentation: http://pandas.pydata.org/pandas-docs/stable/user_guide/indexing.html#returning-a-view-versus-a-copy\n",
      "  self._setitem_with_indexer(indexer, value)\n"
     ]
    }
   ],
   "source": [
    "# Read in attractor municipalities\n",
    "\n",
    "attractors = pd.read_csv('complejidad_alta.csv')\n",
    "\n",
    "# Standardize ID number\n",
    "for i in range(0,137):\n",
    "    attractors['cve_mun'].iloc[i] = str(attractors['cve_mun'].iloc[i]).zfill(5)"
   ]
  },
  {
   "cell_type": "code",
   "execution_count": 8,
   "metadata": {},
   "outputs": [
    {
     "name": "stderr",
     "output_type": "stream",
     "text": [
      "/opt/anaconda3/lib/python3.7/site-packages/ipykernel_launcher.py:12: SettingWithCopyWarning: \n",
      "A value is trying to be set on a copy of a slice from a DataFrame.\n",
      "Try using .loc[row_indexer,col_indexer] = value instead\n",
      "\n",
      "See the caveats in the documentation: http://pandas.pydata.org/pandas-docs/stable/user_guide/indexing.html#returning-a-view-versus-a-copy\n",
      "  if sys.path[0] == '':\n"
     ]
    }
   ],
   "source": [
    "# Find radius for each municipality\n",
    "\n",
    "att_shapes = urban_shapes.loc[urban_shapes['CVEGEO'].isin(attractors['cve_mun'])]\n",
    "\n",
    "min_area = att_shapes['area'].min()\n",
    "\n",
    "radius = []\n",
    "for i in range(0,137):\n",
    "    area = att_shapes['area'].iloc[i]\n",
    "    radius.append(50*(math.log(area/min_area,10) + 1))\n",
    "    \n",
    "att_shapes['radius'] = radius"
   ]
  },
  {
   "cell_type": "code",
   "execution_count": 9,
   "metadata": {},
   "outputs": [
    {
     "data": {
      "image/png": "[encoded data removed]",
      "text/plain": [
       "<Figure size 432x288 with 1 Axes>"
      ]
     },
     "metadata": {
      "needs_background": "light"
     },
     "output_type": "display_data"
    }
   ],
   "source": [
    "# Show radius distribution\n",
    "\n",
    "bins = np.arange(0, 200, 5) # fixed bin size\n",
    "\n",
    "plt.xlim([min(radius)-5, max(radius)+5])\n",
    "\n",
    "plt.hist(radius, bins=bins)\n",
    "plt.title('Radius distribution')\n",
    "plt.xlabel('Radius')\n",
    "plt.ylabel('Count')\n",
    "\n",
    "plt.show()"
   ]
  },
  {
   "cell_type": "markdown",
   "metadata": {},
   "source": [
    "# Regionalization using radius"
   ]
  },
  {
   "cell_type": "code",
   "execution_count": 10,
   "metadata": {},
   "outputs": [
    {
     "name": "stderr",
     "output_type": "stream",
     "text": [
      "/opt/anaconda3/lib/python3.7/site-packages/ipykernel_launcher.py:35: SettingWithCopyWarning: \n",
      "A value is trying to be set on a copy of a slice from a DataFrame.\n",
      "Try using .loc[row_indexer,col_indexer] = value instead\n",
      "\n",
      "See the caveats in the documentation: http://pandas.pydata.org/pandas-docs/stable/user_guide/indexing.html#returning-a-view-versus-a-copy\n"
     ]
    }
   ],
   "source": [
    "# Create a circle with center at the centroid of each attractor municipality and corresponding radius\n",
    "\n",
    "import math\n",
    "\n",
    "polygon_list = []\n",
    "    \n",
    "def find_circle(point, radius_individual):\n",
    "\n",
    "    local_azimuthal_projection = f\"+proj=aeqd +R=6371000 +units=m +lat_0={point.y} +lon_0={point.x}\"\n",
    "\n",
    "    wgs84_to_aeqd = partial(\n",
    "        pyproj.transform,\n",
    "        pyproj.Proj('+proj=longlat +datum=WGS84 +no_defs'),\n",
    "        pyproj.Proj(local_azimuthal_projection),\n",
    "    )\n",
    "\n",
    "    aeqd_to_wgs84 = partial(\n",
    "        pyproj.transform,\n",
    "        pyproj.Proj(local_azimuthal_projection),\n",
    "        pyproj.Proj('+proj=longlat +datum=WGS84 +no_defs'),\n",
    "    )\n",
    "    \n",
    "    point_transformed = transform(wgs84_to_aeqd, point)\n",
    "\n",
    "    buffer = point_transformed.buffer(radius_individual*1000)\n",
    "\n",
    "    buffer_wgs84 = transform(aeqd_to_wgs84, buffer)\n",
    "\n",
    "    return (Polygon(buffer_wgs84))\n",
    "\n",
    "for i in range(att_shapes.shape[0]):\n",
    "    \n",
    "    polygon_list.append(find_circle(att_shapes['centroid'].iloc[i],att_shapes['radius'].iloc[i]))\n",
    "\n",
    "att_shapes['circlerange'] = polygon_list"
   ]
  },
  {
   "cell_type": "code",
   "execution_count": 11,
   "metadata": {},
   "outputs": [],
   "source": [
    "# Output csv\n",
    "\n",
    "phase_1 = urban_shapes\n",
    "\n",
    "for t in range(att_shapes.shape[0]):\n",
    "    one_column = []\n",
    "    \n",
    "    check_polygon = att_shapes['circlerange'].iloc[t]\n",
    "    \n",
    "    for i in range(urban_shapes.shape[0]):\n",
    "        \n",
    "        check_point = (urban_shapes['centroid'].iloc[i])\n",
    "        \n",
    "        if urban_shapes['CVEGEO'].iloc[i] in attractors['cve_mun'].unique():\n",
    "            dummy_value = 2 * (check_polygon.contains(check_point))\n",
    "        else:\n",
    "            dummy_value = 1 * (check_polygon.contains(check_point))\n",
    "        \n",
    "        one_column.append(dummy_value)\n",
    "    \n",
    "    temp_str = att_shapes['CVEGEO'].iloc[t]\n",
    "    \n",
    "    phase_1[temp_str] = one_column\n",
    "    \n",
    "phase_1 = phase_1.drop(['geometry', 'centroid'], axis=1)\n",
    "\n",
    "export_csv = phase_1.to_csv('phase_1.csv')"
   ]
  },
  {
   "cell_type": "code",
   "execution_count": 12,
   "metadata": {},
   "outputs": [
    {
     "data": {
      "text/html": [
       "<div>\n",
       "<style scoped>\n",
       "    .dataframe tbody tr th:only-of-type {\n",
       "        vertical-align: middle;\n",
       "    }\n",
       "\n",
       "    .dataframe tbody tr th {\n",
       "        vertical-align: top;\n",
       "    }\n",
       "\n",
       "    .dataframe thead th {\n",
       "        text-align: right;\n",
       "    }\n",
       "</style>\n",
       "<table border=\"1\" class=\"dataframe\">\n",
       "  <thead>\n",
       "    <tr style=\"text-align: right;\">\n",
       "      <th></th>\n",
       "      <th>CVEGEO</th>\n",
       "      <th>CVE_ENT</th>\n",
       "      <th>CVE_MUN</th>\n",
       "      <th>NOMGEO</th>\n",
       "      <th>geometry</th>\n",
       "      <th>area</th>\n",
       "      <th>centroid</th>\n",
       "      <th>radius</th>\n",
       "      <th>circlerange</th>\n",
       "    </tr>\n",
       "  </thead>\n",
       "  <tbody>\n",
       "    <tr>\n",
       "      <td>0</td>\n",
       "      <td>01001</td>\n",
       "      <td>01</td>\n",
       "      <td>001</td>\n",
       "      <td>Aguascalientes</td>\n",
       "      <td>POLYGON ((-102.10641 22.06035, -102.10368 22.0...</td>\n",
       "      <td>1178.100251</td>\n",
       "      <td>POINT (-102.29580 21.81144)</td>\n",
       "      <td>135.382784</td>\n",
       "      <td>POLYGON ((-100.9844263879088 21.8062594428995,...</td>\n",
       "    </tr>\n",
       "    <tr>\n",
       "      <td>4</td>\n",
       "      <td>01005</td>\n",
       "      <td>01</td>\n",
       "      <td>005</td>\n",
       "      <td>JesÃºs MarÃ­a</td>\n",
       "      <td>POLYGON ((-102.33568 22.05067, -102.33348 22.0...</td>\n",
       "      <td>504.989583</td>\n",
       "      <td>POINT (-102.44565 21.93212)</td>\n",
       "      <td>116.987792</td>\n",
       "      <td>POLYGON ((-101.3114894202855 21.92822824815503...</td>\n",
       "    </tr>\n",
       "    <tr>\n",
       "      <td>0</td>\n",
       "      <td>02002</td>\n",
       "      <td>02</td>\n",
       "      <td>002</td>\n",
       "      <td>Mexicali</td>\n",
       "      <td>MULTIPOLYGON (((-112.89233 28.67826, -112.8919...</td>\n",
       "      <td>15635.295828</td>\n",
       "      <td>POINT (-115.16623 31.74174)</td>\n",
       "      <td>191.528976</td>\n",
       "      <td>POLYGON ((-113.1410570923087 31.72573031099616...</td>\n",
       "    </tr>\n",
       "    <tr>\n",
       "      <td>2</td>\n",
       "      <td>02004</td>\n",
       "      <td>02</td>\n",
       "      <td>004</td>\n",
       "      <td>Tijuana</td>\n",
       "      <td>MULTIPOLYGON (((-117.24565 32.41390, -117.2456...</td>\n",
       "      <td>1235.694726</td>\n",
       "      <td>POINT (-116.81997 32.40407)</td>\n",
       "      <td>136.419231</td>\n",
       "      <td>POLYGON ((-115.3669475796501 32.39573564954144...</td>\n",
       "    </tr>\n",
       "    <tr>\n",
       "      <td>4</td>\n",
       "      <td>02001</td>\n",
       "      <td>02</td>\n",
       "      <td>001</td>\n",
       "      <td>Ensenada</td>\n",
       "      <td>MULTIPOLYGON (((-115.86632 32.26877, -115.8651...</td>\n",
       "      <td>53104.915539</td>\n",
       "      <td>POINT (-114.95721 30.03651)</td>\n",
       "      <td>218.080407</td>\n",
       "      <td>POLYGON ((-112.6920262944677 30.01710497724095...</td>\n",
       "    </tr>\n",
       "    <tr>\n",
       "      <td>...</td>\n",
       "      <td>...</td>\n",
       "      <td>...</td>\n",
       "      <td>...</td>\n",
       "      <td>...</td>\n",
       "      <td>...</td>\n",
       "      <td>...</td>\n",
       "      <td>...</td>\n",
       "      <td>...</td>\n",
       "      <td>...</td>\n",
       "    </tr>\n",
       "    <tr>\n",
       "      <td>189</td>\n",
       "      <td>30193</td>\n",
       "      <td>30</td>\n",
       "      <td>193</td>\n",
       "      <td>Veracruz</td>\n",
       "      <td>MULTIPOLYGON (((-96.09229 19.17375, -96.09240 ...</td>\n",
       "      <td>247.168825</td>\n",
       "      <td>POINT (-96.22166 19.18583)</td>\n",
       "      <td>101.473356</td>\n",
       "      <td>POLYGON ((-95.25543535359094 19.18329735235369...</td>\n",
       "    </tr>\n",
       "    <tr>\n",
       "      <td>49</td>\n",
       "      <td>31050</td>\n",
       "      <td>31</td>\n",
       "      <td>050</td>\n",
       "      <td>MÃ©rida</td>\n",
       "      <td>POLYGON ((-89.55766 20.97731, -89.55744 20.977...</td>\n",
       "      <td>883.443937</td>\n",
       "      <td>POINT (-89.63952 20.98407)</td>\n",
       "      <td>129.132621</td>\n",
       "      <td>POLYGON ((-88.39574242496894 20.9795532061435,...</td>\n",
       "    </tr>\n",
       "    <tr>\n",
       "      <td>9</td>\n",
       "      <td>32010</td>\n",
       "      <td>32</td>\n",
       "      <td>010</td>\n",
       "      <td>Fresnillo</td>\n",
       "      <td>POLYGON ((-102.90780 23.57451, -102.90600 23.5...</td>\n",
       "      <td>5092.469324</td>\n",
       "      <td>POINT (-102.99594 23.23683)</td>\n",
       "      <td>167.170092</td>\n",
       "      <td>POLYGON ((-101.3598922466746 23.22835880012256...</td>\n",
       "    </tr>\n",
       "    <tr>\n",
       "      <td>16</td>\n",
       "      <td>32017</td>\n",
       "      <td>32</td>\n",
       "      <td>017</td>\n",
       "      <td>Guadalupe</td>\n",
       "      <td>POLYGON ((-102.54026 22.77550, -102.54022 22.7...</td>\n",
       "      <td>817.054278</td>\n",
       "      <td>POINT (-102.40763 22.78020)</td>\n",
       "      <td>127.436217</td>\n",
       "      <td>POLYGON ((-101.1646351350078 22.77538974739781...</td>\n",
       "    </tr>\n",
       "    <tr>\n",
       "      <td>55</td>\n",
       "      <td>32056</td>\n",
       "      <td>32</td>\n",
       "      <td>056</td>\n",
       "      <td>Zacatecas</td>\n",
       "      <td>POLYGON ((-102.53955 22.77820, -102.53954 22.7...</td>\n",
       "      <td>441.496537</td>\n",
       "      <td>POINT (-102.67808 22.73573)</td>\n",
       "      <td>114.070036</td>\n",
       "      <td>POLYGON ((-101.5658154100859 22.73188634513161...</td>\n",
       "    </tr>\n",
       "  </tbody>\n",
       "</table>\n",
       "<p>137 rows × 9 columns</p>\n",
       "</div>"
      ],
      "text/plain": [
       "    CVEGEO CVE_ENT CVE_MUN          NOMGEO  \\\n",
       "0    01001      01     001  Aguascalientes   \n",
       "4    01005      01     005   JesÃºs MarÃ­a   \n",
       "0    02002      02     002        Mexicali   \n",
       "2    02004      02     004         Tijuana   \n",
       "4    02001      02     001        Ensenada   \n",
       "..     ...     ...     ...             ...   \n",
       "189  30193      30     193        Veracruz   \n",
       "49   31050      31     050         MÃ©rida   \n",
       "9    32010      32     010       Fresnillo   \n",
       "16   32017      32     017       Guadalupe   \n",
       "55   32056      32     056       Zacatecas   \n",
       "\n",
       "                                              geometry          area  \\\n",
       "0    POLYGON ((-102.10641 22.06035, -102.10368 22.0...   1178.100251   \n",
       "4    POLYGON ((-102.33568 22.05067, -102.33348 22.0...    504.989583   \n",
       "0    MULTIPOLYGON (((-112.89233 28.67826, -112.8919...  15635.295828   \n",
       "2    MULTIPOLYGON (((-117.24565 32.41390, -117.2456...   1235.694726   \n",
       "4    MULTIPOLYGON (((-115.86632 32.26877, -115.8651...  53104.915539   \n",
       "..                                                 ...           ...   \n",
       "189  MULTIPOLYGON (((-96.09229 19.17375, -96.09240 ...    247.168825   \n",
       "49   POLYGON ((-89.55766 20.97731, -89.55744 20.977...    883.443937   \n",
       "9    POLYGON ((-102.90780 23.57451, -102.90600 23.5...   5092.469324   \n",
       "16   POLYGON ((-102.54026 22.77550, -102.54022 22.7...    817.054278   \n",
       "55   POLYGON ((-102.53955 22.77820, -102.53954 22.7...    441.496537   \n",
       "\n",
       "                        centroid      radius  \\\n",
       "0    POINT (-102.29580 21.81144)  135.382784   \n",
       "4    POINT (-102.44565 21.93212)  116.987792   \n",
       "0    POINT (-115.16623 31.74174)  191.528976   \n",
       "2    POINT (-116.81997 32.40407)  136.419231   \n",
       "4    POINT (-114.95721 30.03651)  218.080407   \n",
       "..                           ...         ...   \n",
       "189   POINT (-96.22166 19.18583)  101.473356   \n",
       "49    POINT (-89.63952 20.98407)  129.132621   \n",
       "9    POINT (-102.99594 23.23683)  167.170092   \n",
       "16   POINT (-102.40763 22.78020)  127.436217   \n",
       "55   POINT (-102.67808 22.73573)  114.070036   \n",
       "\n",
       "                                           circlerange  \n",
       "0    POLYGON ((-100.9844263879088 21.8062594428995,...  \n",
       "4    POLYGON ((-101.3114894202855 21.92822824815503...  \n",
       "0    POLYGON ((-113.1410570923087 31.72573031099616...  \n",
       "2    POLYGON ((-115.3669475796501 32.39573564954144...  \n",
       "4    POLYGON ((-112.6920262944677 30.01710497724095...  \n",
       "..                                                 ...  \n",
       "189  POLYGON ((-95.25543535359094 19.18329735235369...  \n",
       "49   POLYGON ((-88.39574242496894 20.9795532061435,...  \n",
       "9    POLYGON ((-101.3598922466746 23.22835880012256...  \n",
       "16   POLYGON ((-101.1646351350078 22.77538974739781...  \n",
       "55   POLYGON ((-101.5658154100859 22.73188634513161...  \n",
       "\n",
       "[137 rows x 9 columns]"
      ]
     },
     "execution_count": 12,
     "metadata": {},
     "output_type": "execute_result"
    }
   ],
   "source": [
    "att_shapes"
   ]
  },
  {
   "cell_type": "markdown",
   "metadata": {},
   "source": [
    "# Distribution of overlaps"
   ]
  },
  {
   "cell_type": "code",
   "execution_count": null,
   "metadata": {},
   "outputs": [],
   "source": [
    "# Plot number overlaps for all municipalities\n",
    "\n",
    "overlap = phase_1.drop(['CVE_ENT', 'CVE_MUN', 'NOMGEO', 'area'], axis=1)\n",
    "\n",
    "overlap.set_index('CVEGEO', inplace=True)\n",
    "\n",
    "overlap_t = overlap.T\n",
    "\n",
    "overlap_count = overlap_t.astype(bool).sum()\n",
    "\n",
    "for i in attractors['cve_mun']:\n",
    "    overlap_count[i] = overlap_count[i] - 1\n",
    "    \n",
    "fig, axes = plt.subplots(nrows=25)\n",
    "\n",
    "for i in range(25):\n",
    "    overlap_count_sample = overlap_count.iloc[i*100:i*100+100]\n",
    "    overlap_count_sample.plot.bar(ax=axes[i], figsize=(15,145), rot=90);"
   ]
  },
  {
   "cell_type": "code",
   "execution_count": null,
   "metadata": {},
   "outputs": [],
   "source": [
    "# Summary of all overlaps\n",
    "\n",
    "overlap_count.describe()"
   ]
  },
  {
   "cell_type": "code",
   "execution_count": null,
   "metadata": {},
   "outputs": [],
   "source": [
    "# Distribution histogram of all overlaps\n",
    "\n",
    "bins = np.arange(0, 50, 1) # fixed bin size\n",
    "\n",
    "plt.xlim([min(overlap_count)-5, max(overlap_count)+5])\n",
    "\n",
    "plt.hist(overlap_count, bins=bins)\n",
    "plt.title('Municipaltiy overlap distribution')\n",
    "plt.xlabel('Number of overlaps')\n",
    "plt.ylabel('Count')\n",
    "\n",
    "plt.show()"
   ]
  },
  {
   "cell_type": "code",
   "execution_count": null,
   "metadata": {},
   "outputs": [],
   "source": [
    "# Plot number overlaps for attractor municipalities\n",
    "\n",
    "att_only = phase_1.loc[phase_1['CVEGEO'].isin(attractors['cve_mun'])]\n",
    "\n",
    "att_only = att_only.drop(['CVEGEO', 'CVE_ENT', 'CVE_MUN', 'NOMGEO', 'area'], axis=1)\n",
    "\n",
    "att_overlap_count = att_only.astype(bool).sum()\n",
    "\n",
    "att_overlap_count = att_overlap_count - 1\n",
    "    \n",
    "fig, axes = plt.subplots(nrows=3)\n",
    "\n",
    "for i in range(3):\n",
    "    att_overlap_count_sample = att_overlap_count.iloc[i*50:i*50+50]\n",
    "    att_overlap_count_sample.plot.bar(ax=axes[i], figsize=(15,25), rot=90);"
   ]
  },
  {
   "cell_type": "code",
   "execution_count": null,
   "metadata": {},
   "outputs": [],
   "source": [
    "# Summary of attractor overlaps\n",
    "\n",
    "att_overlap_count.describe()"
   ]
  },
  {
   "cell_type": "code",
   "execution_count": null,
   "metadata": {},
   "outputs": [],
   "source": [
    "# Distribution histogram of attractor overlaps\n",
    "\n",
    "bins = np.arange(0, 60, 1) # fixed bin size\n",
    "\n",
    "plt.xlim([min(att_overlap_count)-5, max(att_overlap_count)+5])\n",
    "\n",
    "plt.hist(att_overlap_count, bins=bins)\n",
    "plt.title('Attractor municipaltiy overlap distribution')\n",
    "plt.xlabel('Number of overlaps')\n",
    "plt.ylabel('Count')\n",
    "\n",
    "plt.show()"
   ]
  },
  {
   "cell_type": "markdown",
   "metadata": {},
   "source": [
    "# Merging regions"
   ]
  },
  {
   "cell_type": "code",
   "execution_count": null,
   "metadata": {},
   "outputs": [],
   "source": [
    "# Naively merge all attractor regions that overlap with other attractors\n",
    "\n",
    "Reg_dict = {}\n",
    "\n",
    "for att in overlap.columns:\n",
    "    Reg_dict[att] = 0\n",
    "\n",
    "i = 0\n",
    "\n",
    "merged = pd.DataFrame(index = overlap.index)\n",
    "for col in overlap.columns:\n",
    "    l = overlap.index[overlap[col] == 2].tolist()\n",
    "    regions = []\n",
    "    for att in l:\n",
    "        if Reg_dict[att] != 0:\n",
    "            regions.append(Reg_dict[att])\n",
    "    if regions == []:\n",
    "        i += 1\n",
    "        for att in l:\n",
    "            Reg_dict[att] = i\n",
    "            merged[i] = overlap[att]\n",
    "    else:\n",
    "        region = min(set(regions))\n",
    "        for att in l:\n",
    "            Reg_dict[att] = region\n",
    "            merged[region] = merged[region] + overlap[att]"
   ]
  },
  {
   "cell_type": "code",
   "execution_count": null,
   "metadata": {},
   "outputs": [],
   "source": [
    "regions\n"
   ]
  },
  {
   "cell_type": "code",
   "execution_count": null,
   "metadata": {},
   "outputs": [],
   "source": [
    "# Create dictionary documenting naive regionalization\n",
    "\n",
    "Reg_dict_naive = {}\n",
    "\n",
    "for col in merged.columns:\n",
    "    Reg_dict_naive[col] = merged.index[merged[col] > 0].tolist()"
   ]
  },
  {
   "cell_type": "code",
   "execution_count": null,
   "metadata": {},
   "outputs": [],
   "source": [
    "Reg_dict_naive"
   ]
  },
  {
   "cell_type": "code",
   "execution_count": null,
   "metadata": {},
   "outputs": [],
   "source": [
    "# Merge attractor regions that overlap with other attractors by complexity, 1 merge per attractor\n",
    "\n",
    "Reg_dict = {}\n",
    "Merge_dict = {}\n",
    "\n",
    "for att in overlap.columns:\n",
    "    Reg_dict[att] = 0\n",
    "    Merge_dict[att] = 0\n",
    "    \n",
    "\n",
    "merged = pd.DataFrame(index = overlap.index)\n",
    "\n",
    "for col in attractors['cve_mun']:\n",
    "    if Merge_dict[col] == 0:\n",
    "        l = overlap.index[overlap[col] == 2].tolist()\n",
    "        merged[col] = overlap[col]\n",
    "        for att in l:\n",
    "            Merge_dict[att] = 1\n",
    "            merged[col] = merged[col] + overlap[att]\n",
    "            "
   ]
  },
  {
   "cell_type": "code",
   "execution_count": null,
   "metadata": {},
   "outputs": [],
   "source": [
    "merged"
   ]
  },
  {
   "cell_type": "code",
   "execution_count": null,
   "metadata": {},
   "outputs": [],
   "source": [
    "# Phase 1 final regionalization csv\n",
    "\n",
    "export_csv = merged.to_csv('merged.csv')"
   ]
  },
  {
   "cell_type": "code",
   "execution_count": null,
   "metadata": {},
   "outputs": [],
   "source": [
    "# Create dictionary documenting 1-pass regionalization\n",
    "\n",
    "Reg_dict1 = {}\n",
    "\n",
    "for col in merged.columns:\n",
    "    Reg_dict1[col] = merged.index[merged[col] > 0].tolist()\n",
    "    \n",
    "key_list = list(Reg_dict1.keys()) \n",
    "val_list = list(Reg_dict1.values()) "
   ]
  },
  {
   "cell_type": "code",
   "execution_count": null,
   "metadata": {},
   "outputs": [],
   "source": [
    "# Count municipality-region matching overlaps\n",
    "\n",
    "Mun_dict = {}\n",
    "Mun_count = {}\n",
    "for mun in overlap.index:\n",
    "    Mun_dict[mun] = []\n",
    "    Mun_count[mun] = 0\n",
    "\n",
    "for mun in overlap.index:\n",
    "    for key in key_list:\n",
    "        for i in Reg_dict1[key]:\n",
    "            if mun == i:\n",
    "                Mun_dict[mun].append(key)\n",
    "                Mun_count[mun] += 1"
   ]
  },
  {
   "cell_type": "code",
   "execution_count": null,
   "metadata": {},
   "outputs": [],
   "source": [
    "# Distribution histogram of municipality-region matching\n",
    "\n",
    "region_count = list(Mun_count.values())\n",
    "bins = np.arange(0, 6, 1) # fixed bin size\n",
    "\n",
    "plt.xlim([min(region_count)-1, max(region_count)+1])\n",
    "\n",
    "plt.hist(region_count, bins=bins)\n",
    "plt.title('Regions assigned per municipality distribution')\n",
    "plt.xlabel('Number of regions')\n",
    "plt.ylabel('Count')\n",
    "\n",
    "plt.show()"
   ]
  },
  {
   "cell_type": "code",
   "execution_count": null,
   "metadata": {},
   "outputs": [],
   "source": [
    "# Read in proximity score file between all municipalities\n",
    "\n",
    "proximity = pd.read_csv('municipality_proximity_matrix_clave_actividad_economica_and_cve_mun_2014_A111A_H001A_6.csv', index_col = 'clave_entidad')\n",
    "\n",
    "col_head = list(proximity.columns)\n",
    "col_head_new = []\n",
    "\n",
    "for n in col_head:\n",
    "    col_head_new.append(n.zfill(5))\n",
    "    \n",
    "proximity.columns = col_head_new\n"
   ]
  },
  {
   "cell_type": "code",
   "execution_count": null,
   "metadata": {},
   "outputs": [],
   "source": [
    "# There are 7 municipalities that are not in the proximity file, since they are newly added in 2018\n",
    "\n",
    "Mun_dict_cut = Mun_dict.copy()\n",
    "\n",
    "l = ['07058', '07120', '07121', '07122', '07123', '07124', '23011']\n",
    "\n",
    "for i in l:\n",
    "    del Mun_dict_cut[i]"
   ]
  },
  {
   "cell_type": "code",
   "execution_count": null,
   "metadata": {},
   "outputs": [],
   "source": [
    "# Create new regionalization dictionary after assigning overlapping municipalities\n",
    "\n",
    "Reg_dict2 = {}\n",
    "no_region = []\n",
    "\n",
    "for att in key_list:\n",
    "    Reg_dict2[att] = []\n",
    "    \n",
    "Reg_dict2['07089'] = ['07120']\n",
    "Reg_dict2['07101'] = ['07058', '07121', '07122', '07123', '07124']\n",
    "Reg_dict2['23005'] = ['23011']\n",
    "    \n",
    "for key in Mun_dict_cut:\n",
    "    Prox_dict = {}\n",
    "    for item in Mun_dict_cut[key]:\n",
    "        index = int(key)\n",
    "        Prox_dict[item] = proximity.at[index,item]\n",
    "    if Prox_dict:   \n",
    "        reg = max(Prox_dict.items(), key=operator.itemgetter(1))[0]\n",
    "        Reg_dict2[reg].append(key)\n",
    "    else:\n",
    "        no_region.append(key)"
   ]
  },
  {
   "cell_type": "markdown",
   "metadata": {},
   "source": [
    "# Drawing shades showing proximity to the central attractors"
   ]
  },
  {
   "cell_type": "code",
   "execution_count": null,
   "metadata": {},
   "outputs": [],
   "source": [
    "urban_shapes.set_index(\"CVEGEO\", inplace = True)"
   ]
  },
  {
   "cell_type": "code",
   "execution_count": null,
   "metadata": {},
   "outputs": [],
   "source": [
    "# Here I chose the color specrum Wistia to show the linear transition of color based on the variable-proximity \n",
    "\n",
    "import matplotlib\n",
    "\n",
    "Color_Spectrum = plt.get_cmap('Wistia')\n",
    "\n",
    "def give_hex(original_num):\n",
    "    return(matplotlib.colors.rgb2hex((Color_Spectrum(original_num))))\n"
   ]
  },
  {
   "cell_type": "code",
   "execution_count": null,
   "metadata": {},
   "outputs": [],
   "source": [
    "# Design a function to make it easier to find the proximity between two municipalities \n",
    "# Especially that if one municipality is not in the proimity index, we give them a value of 0\n",
    "# Also normalize, so that the scale of the proximity score in each region will be from 0 to 1 \n",
    "# (for example, if the proximity score within one region is 0, 0.3, 0.6, it will be normalized to\n",
    "# 0, 0.5, 1)\n",
    "\n",
    "def find_proximity(a):\n",
    "    \n",
    "    if a[1] in ['07058', '07120', '07121', '07122', '07123', '07124', '23011']:\n",
    "        return (0)\n",
    "    else:\n",
    "        return (proximity.at[int(a[0]),a[1]])*(1/0.637)\n"
   ]
  },
  {
   "cell_type": "code",
   "execution_count": null,
   "metadata": {},
   "outputs": [],
   "source": [
    "# Change the diagonal value to 1 to find the maximum proximity score in each row \n",
    "\n",
    "proximity2 = proximity\n",
    "\n",
    "np.fill_diagonal(proximity2.values, 0)"
   ]
  },
  {
   "cell_type": "code",
   "execution_count": null,
   "metadata": {},
   "outputs": [],
   "source": [
    "# Here in this map, different color means different region, and the black means they don't belong to any attractor region\n",
    "\n",
    "# This can generate random color when claled\n",
    "def randomcolor():\n",
    "    colorArr = ['1','2','3','4','5','6','7','8','9','A','B','C','D','E','F']\n",
    "    color = \"\"\n",
    "    for i in range(6):\n",
    "        color += colorArr[random.randint(0,14)]\n",
    "    return (\"#\"+color)\n",
    "\n",
    "fig, ax = plt.subplots(figsize=(20,10))\n",
    "\n",
    "(urban_shapes).plot(ax=ax, color='black');\n",
    "\n",
    "for i in (list(Reg_dict2.keys())):\n",
    "    \n",
    "    loc_num = Reg_dict2[i]\n",
    "    \n",
    "    (urban_shapes.loc[loc_num,:]).plot(ax=ax, color=randomcolor())\n",
    "    \n",
    "plt.legend()\n",
    "\n",
    "plt.title('The Complex 46-Region Map')\n",
    "\n",
    "plt.tight_layout();"
   ]
  },
  {
   "cell_type": "code",
   "execution_count": null,
   "metadata": {},
   "outputs": [],
   "source": [
    "# Show one specific region \n",
    "\n",
    "sm = plt.cm.ScalarMappable(cmap=\"Wistia\", norm=plt.Normalize(vmin=0, vmax=1))\n",
    "\n",
    "fig, ax = plt.subplots(figsize=(20,10))\n",
    "\n",
    "def show_proximity_by_region(k):\n",
    "    \n",
    "    for i in (list(Reg_dict2.keys()))[k:k+1]:\n",
    "\n",
    "        loc_num = Reg_dict2[i]\n",
    "\n",
    "        for each in range (len(loc_num)):\n",
    "\n",
    "            (urban_shapes.loc[[loc_num[each]],:]).plot(ax=ax, color=give_hex(find_proximity([i,loc_num[each]])))            \n",
    "\n",
    "        (urban_shapes.loc[(list(Reg_dict2.keys()))[k:k+1],:]).plot(ax=ax, color='red')            \n",
    "\n",
    "    plt.legend()\n",
    "\n",
    "    plt.title('Region '+str(k)+' Proximity Map')\n",
    "\n",
    "    plt.colorbar(sm) \n",
    "\n",
    "    plt.tight_layout()\n",
    "    \n",
    "# Show the proximity graph of region 3 \n",
    "show_proximity_by_region(3)"
   ]
  },
  {
   "cell_type": "code",
   "execution_count": null,
   "metadata": {},
   "outputs": [],
   "source": [
    "# This map, the red color means they are the central attractor of one region\n",
    "# And the color of other municiaplities show their proximity socre to the central attractor of that region \n",
    "\n",
    "fig, ax = plt.subplots(figsize=(20,10))\n",
    "\n",
    "sm = plt.cm.ScalarMappable(cmap=\"Wistia\", norm=plt.Normalize(vmin=0, vmax=1))\n",
    "\n",
    "# to show the graphing process since graphing this takes a while, \n",
    "count = 1\n",
    "\n",
    "for i in (list(Reg_dict2.keys())):\n",
    "    \n",
    "    loc_num = Reg_dict2[i]\n",
    "    \n",
    "    for each in range (len(loc_num)):\n",
    "                \n",
    "        (urban_shapes.loc[[loc_num[each]],:]).plot(ax=ax, color=give_hex(find_proximity([i,loc_num[each]])))            \n",
    "\n",
    "    (urban_shapes.loc[(list(Reg_dict2.keys())),:]).plot(ax=ax, color='red')            \n",
    "\n",
    "    print (str(count)+'/46')\n",
    "    count += 1\n",
    "        \n",
    "plt.legend()\n",
    "\n",
    "plt.title('The Complex 46-Region Map')\n",
    "\n",
    "# Show the color bar \n",
    "plt.colorbar(sm) \n",
    "\n",
    "plt.tight_layout();"
   ]
  },
  {
   "cell_type": "code",
   "execution_count": null,
   "metadata": {},
   "outputs": [],
   "source": []
  }
 ],
 "metadata": {
  "kernelspec": {
   "display_name": "Python 3",
   "language": "python",
   "name": "python3"
  },
  "language_info": {
   "codemirror_mode": {
    "name": "ipython",
    "version": 3
   },
   "file_extension": ".py",
   "mimetype": "text/x-python",
   "name": "python",
   "nbconvert_exporter": "python",
   "pygments_lexer": "ipython3",
   "version": "3.7.4"
  }
 },
 "nbformat": 4,
 "nbformat_minor": 2
}
