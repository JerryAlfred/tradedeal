{
 "cells": [
  {
   "cell_type": "markdown",
   "metadata": {},
   "source": [
    "# Grouping municipalities and merging attractors\n",
    "\n",
    "In this script we group the municipalitites based their distance to the attractor municipalities and merge the existing groups based on any overlapping attractor municipalities that belong in multiple groups.\n",
    "\n",
    "In the first stage (before developing a time radius), we find a cartesian radius proportional to the area of each attractor municipality. We then find the municipalities that fall within a circle with such radius and center on the centroid of the attractor municipality. The output of this is a binary csv file with 1 signifying part of the region with the attractor municipality in the column heading and 0 otherwise.\n",
    "\n",
    "Secondly, we identify which attractor municipalities fall within the regionalization radius of other attractor municipalities. We update the output csv from before to have 2 signify an attractor municipality being within the regionalization radius of another attractor, 1 signify a non-attractor municipality being within region, and 0 otherwise. "
   ]
  },
  {
   "cell_type": "code",
   "execution_count": 42,
   "metadata": {},
   "outputs": [],
   "source": [
    "# Libraries\n",
    "\n",
    "import pandas as pd\n",
    "import geopandas as gpd\n",
    "import numpy as np\n",
    "import math\n",
    "\n",
    "import matplotlib.pyplot as plt\n",
    "\n",
    "from sklearn.cluster import KMeans\n",
    "from shapely.geometry import Polygon\n",
    "from sklearn.cluster import DBSCAN\n",
    "\n",
    "import pyproj    \n",
    "import shapely\n",
    "import shapely.ops as ops\n",
    "from shapely.geometry.polygon import Polygon\n",
    "from functools import partial"
   ]
  },
  {
   "cell_type": "markdown",
   "metadata": {},
   "source": [
    "# Paths and names"
   ]
  },
  {
   "cell_type": "code",
   "execution_count": 2,
   "metadata": {},
   "outputs": [],
   "source": [
    "# Define path of municipalities shape file\n",
    "\n",
    "entities_path = 'marco_geoestadistico_2018/'"
   ]
  },
  {
   "cell_type": "code",
   "execution_count": 3,
   "metadata": {},
   "outputs": [],
   "source": [
    "# Define a dictionary to read the shape files\n",
    "\n",
    "entities= {\n",
    "    '01' :['01Ags','01_aguascalientes'],\n",
    "    '02' :['02BC','02_bajacalifornia'],\n",
    "    '03' :['03BCS','03_bajacaliforniasur'],\n",
    "    '04' :['04Camp', '04_campeche'],\n",
    "    '05' :['05Coah','05_coahuiladezaragoza'],\n",
    "    '06' :['06Col','06_colima'],\n",
    "    '07' :[ '07Chs','07_chiapas'],\n",
    "    '08' :['08Chih','08_chihuahua'],\n",
    "    '09' :['09CdMx','09_ciudaddemexico'],\n",
    "    '10' :['10Dur','10_durango'],\n",
    "    '11' :['11Gto', '11_guanajuato'],\n",
    "    '12' :['12Gro','12_guerrero'],\n",
    "    '13' :['13Hgo','13_hidalgo'],\n",
    "    '14' :['14Jal','14_jalisco'],\n",
    "    '15' :['15EdoMex','15_mexico'],\n",
    "    '16' :['16Mich','16_michoacandeocampo'],\n",
    "    '17' :['17Mor','17_morelos'],\n",
    "    '18' :['18Nay','18_nayarit'],\n",
    "    '19' :['19NL', '19_nuevoleon'],\n",
    "    '20' :['20Oax', '20_oaxaca'],\n",
    "    '21' :['21Pue', '21_puebla'],\n",
    "    '22' :['22Qro','22_queretaro'],\n",
    "    '23' :['23QRoo','23_quintanaroo'], \n",
    "    '24' :['24SLP','24_sanluispotosi'],\n",
    "    '25' :['25Sin','25_sinaloa'],\n",
    "    '26' :['26Son','26_sonora'],\n",
    "    '27' :['27Tab','27_tabasco'],\n",
    "    '28' :['28Tamps','28_tamaulipas'],\n",
    "    '29' :['29Tlax','29_tlaxcala'],\n",
    "    '30' :['30Ver','30_veracruzignaciodelallave'],\n",
    "    '31' :[ '31Yuc','31_yucatan'],\n",
    "    '32' :[ '32Zac','32_zacatecas']   \n",
    "}"
   ]
  },
  {
   "cell_type": "markdown",
   "metadata": {},
   "source": [
    "# Municipality shapefiles"
   ]
  },
  {
   "cell_type": "code",
   "execution_count": 24,
   "metadata": {},
   "outputs": [],
   "source": [
    "# Read in municipality shapefiles \n",
    "\n",
    "urban_shapes = []\n",
    "\n",
    "for i in range(1,33):\n",
    "    a = str(i).zfill(2)\n",
    "    \n",
    "    urban_agebs = gpd.read_file(entities_path + entities[a][1]+'/conjunto de datos/'+entities[a][1][0:2]+'mun'+'.shp')\n",
    "    \n",
    "    urban_shapes.append(urban_agebs)\n",
    "    \n",
    "urban_shapes = pd.concat(urban_shapes)"
   ]
  },
  {
   "cell_type": "markdown",
   "metadata": {},
   "source": [
    "# Area and centroid calculations"
   ]
  },
  {
   "cell_type": "code",
   "execution_count": 45,
   "metadata": {},
   "outputs": [],
   "source": [
    "# Find area of all municipalities\n",
    "\n",
    "# Ensure projection consistency\n",
    "urban_shapes = urban_shapes.to_crs({'init' :'epsg:4326'})\n",
    "\n",
    "gs = gpd.GeoSeries(urban_shapes['geometry'])\n",
    "\n",
    "areas = []\n",
    "for i in gs:  \n",
    "    area = ops.transform(\n",
    "        partial(\n",
    "            pyproj.transform,\n",
    "            pyproj.Proj(init='EPSG:4326'),\n",
    "            pyproj.Proj(\n",
    "                proj='aea',\n",
    "                lat_1=i.bounds[1],\n",
    "                lat_2=i.bounds[3])),\n",
    "        i)\n",
    "    areas.append(area.area/1000000)\n",
    "    \n",
    "urban_shapes['area'] = areas"
   ]
  },
  {
   "cell_type": "code",
   "execution_count": 47,
   "metadata": {},
   "outputs": [],
   "source": [
    "# Find centroid of all municipalities\n",
    "\n",
    "centroid = gs.centroid\n",
    "urban_shapes['centroid'] = centroid"
   ]
  },
  {
   "cell_type": "markdown",
   "metadata": {},
   "source": [
    "# Radius calculations for attractor municipalities"
   ]
  },
  {
   "cell_type": "code",
   "execution_count": 48,
   "metadata": {},
   "outputs": [
    {
     "name": "stderr",
     "output_type": "stream",
     "text": [
      "/opt/anaconda3/lib/python3.7/site-packages/pandas/core/indexing.py:205: SettingWithCopyWarning: \n",
      "A value is trying to be set on a copy of a slice from a DataFrame\n",
      "\n",
      "See the caveats in the documentation: http://pandas.pydata.org/pandas-docs/stable/user_guide/indexing.html#returning-a-view-versus-a-copy\n",
      "  self._setitem_with_indexer(indexer, value)\n"
     ]
    }
   ],
   "source": [
    "# Read in attractor municipalities\n",
    "\n",
    "attractors = pd.read_csv('complejidad_alta.csv')\n",
    "\n",
    "# Standardize ID number\n",
    "for i in range(0,137):\n",
    "    attractors['cve_mun'].iloc[i] = str(attractors['cve_mun'].iloc[i]).zfill(5)"
   ]
  },
  {
   "cell_type": "code",
   "execution_count": 49,
   "metadata": {},
   "outputs": [
    {
     "name": "stderr",
     "output_type": "stream",
     "text": [
      "/opt/anaconda3/lib/python3.7/site-packages/ipykernel_launcher.py:12: SettingWithCopyWarning: \n",
      "A value is trying to be set on a copy of a slice from a DataFrame.\n",
      "Try using .loc[row_indexer,col_indexer] = value instead\n",
      "\n",
      "See the caveats in the documentation: http://pandas.pydata.org/pandas-docs/stable/user_guide/indexing.html#returning-a-view-versus-a-copy\n",
      "  if sys.path[0] == '':\n"
     ]
    }
   ],
   "source": [
    "# Find radius for each municipality\n",
    "\n",
    "att_shapes = urban_shapes.loc[urban_shapes['CVEGEO'].isin(attractors['cve_mun'])]\n",
    "\n",
    "min_area = att_shapes['area'].min()\n",
    "\n",
    "radius = []\n",
    "for i in range(0,137):\n",
    "    area = att_shapes['area'].iloc[i]\n",
    "    radius.append(50*(math.log(area/min_area,10) + 1))\n",
    "    \n",
    "att_shapes['radius'] = radius"
   ]
  },
  {
   "cell_type": "code",
   "execution_count": 50,
   "metadata": {},
   "outputs": [
    {
     "data": {
      "image/png": "[encoded data removed]",
      "text/plain": [
       "<Figure size 432x288 with 1 Axes>"
      ]
     },
     "metadata": {
      "needs_background": "light"
     },
     "output_type": "display_data"
    }
   ],
   "source": [
    "# Show radius distribution\n",
    "\n",
    "bins = np.arange(0, 200, 5) # fixed bin size\n",
    "\n",
    "plt.xlim([min(radius)-5, max(radius)+5])\n",
    "\n",
    "plt.hist(radius, bins=bins)\n",
    "plt.title('Radius distribution')\n",
    "plt.xlabel('Radius')\n",
    "plt.ylabel('Count')\n",
    "\n",
    "plt.show()"
   ]
  },
  {
   "cell_type": "markdown",
   "metadata": {},
   "source": [
    "# Regionalization using radius"
   ]
  },
  {
   "cell_type": "code",
   "execution_count": 51,
   "metadata": {},
   "outputs": [
    {
     "name": "stderr",
     "output_type": "stream",
     "text": [
      "/opt/anaconda3/lib/python3.7/site-packages/ipykernel_launcher.py:33: SettingWithCopyWarning: \n",
      "A value is trying to be set on a copy of a slice from a DataFrame.\n",
      "Try using .loc[row_indexer,col_indexer] = value instead\n",
      "\n",
      "See the caveats in the documentation: http://pandas.pydata.org/pandas-docs/stable/user_guide/indexing.html#returning-a-view-versus-a-copy\n"
     ]
    }
   ],
   "source": [
    "# Create a circle with center at the centroid of each attractor municipality and corresponding radius\n",
    "\n",
    "polygon_list = []\n",
    "\n",
    "def find_circle(point, radius_individual):\n",
    "    global polygon_list\n",
    "    \n",
    "    # inputs\n",
    "    radius = 1000 * radius_individual # m - the following code is an approximation that stays reasonably accurate for distances < 100km\n",
    "    centerLat = point.x # latitude of circle center, decimal degrees\n",
    "    centerLon = point.y # Longitude of circle center, decimal degrees\n",
    "\n",
    "    # parameters\n",
    "    N = 360 # number of discrete sample points to be generated along the circle\n",
    "\n",
    "    # generate points\n",
    "    circlePoints = []\n",
    "    for k in range(N):\n",
    "        # compute\n",
    "        angle = math.pi*2*k/N\n",
    "        dx = radius*math.cos(angle)\n",
    "        dy = radius*math.sin(angle)\n",
    "\n",
    "        point = ((centerLat + (180/math.pi)*(dy/6378137)), centerLon + (180/math.pi)*(dx/6378137)/math.cos(centerLat*math.pi/180))\n",
    "        \n",
    "        circlePoints.append(point)\n",
    "        \n",
    "    polygon_list.append(Polygon(circlePoints))\n",
    "    \n",
    "for i in range(att_shapes.shape[0]):\n",
    "    find_circle(att_shapes['centroid'].iloc[i],att_shapes['radius'].iloc[i])\n",
    "    \n",
    "att_shapes['circlerange'] = polygon_list"
   ]
  },
  {
   "cell_type": "code",
   "execution_count": null,
   "metadata": {},
   "outputs": [],
   "source": [
    "# Output csv\n",
    "\n",
    "phase_1 = urban_shapes\n",
    "\n",
    "for t in range(att_shapes.shape[0]):\n",
    "    one_column = []\n",
    "    \n",
    "    check_polygon = att_shapes['circlerange'].iloc[t]\n",
    "    \n",
    "    for i in range(urban_shapes.shape[0]):\n",
    "        \n",
    "        check_point = (urban_shapes['centroid'].iloc[i])\n",
    "        \n",
    "        if urban_shapes['CVEGEO'].iloc[i] in attractors['cve_mun'].unique():\n",
    "            dummy_value = 2 * (check_polygon.contains(check_point))\n",
    "        else:\n",
    "            dummy_value = 1 * (check_polygon.contains(check_point))\n",
    "        \n",
    "        one_column.append(dummy_value)\n",
    "    \n",
    "    temp_str = att_shapes['CVEGEO'].iloc[t]\n",
    "    \n",
    "    phase_1[temp_str] = one_column\n",
    "    \n",
    "phase_1 = phase_1.drop(['geometry', 'centroid'], axis=1)\n",
    "\n",
    "export_csv = phase_1.to_csv('phase_1.csv')"
   ]
  },
  {
   "cell_type": "markdown",
   "metadata": {},
   "source": [
    "# Distribution of overlaps"
   ]
  },
  {
   "cell_type": "code",
   "execution_count": null,
   "metadata": {},
   "outputs": [],
   "source": [
    "# Plot number overlaps for all municipalities\n",
    "\n",
    "overlap = phase_1.drop(['CVE_ENT', 'CVE_MUN', 'NOMGEO', 'area'], axis=1)\n",
    "\n",
    "overlap.set_index('CVEGEO', inplace=True)\n",
    "\n",
    "overlap = overlap.T\n",
    "\n",
    "overlap_count = overlap.astype(bool).sum()\n",
    "\n",
    "for i in attractors['cve_mun']:\n",
    "    overlap_count[i] = overlap_count[i] - 1\n",
    "    \n",
    "fig, axes = plt.subplots(nrows=25)\n",
    "\n",
    "for i in range(25):\n",
    "    overlap_count_sample = overlap_count.iloc[i*100:i*100+100]\n",
    "    overlap_count_sample.plot.bar(ax=axes[i], figsize=(15,145), rot=90);"
   ]
  },
  {
   "cell_type": "code",
   "execution_count": null,
   "metadata": {},
   "outputs": [],
   "source": [
    "# Summary of all overlaps\n",
    "\n",
    "overlap_count.describe()"
   ]
  },
  {
   "cell_type": "code",
   "execution_count": null,
   "metadata": {},
   "outputs": [],
   "source": [
    "# Distribution histogram of all overlaps\n",
    "\n",
    "bins = np.arange(0, 50, 1) # fixed bin size\n",
    "\n",
    "plt.xlim([min(overlap_count)-5, max(overlap_count)+5])\n",
    "\n",
    "plt.hist(overlap_count, bins=bins)\n",
    "plt.title('Municipaltiy overlap distribution')\n",
    "plt.xlabel('Number of overlaps')\n",
    "plt.ylabel('Count')\n",
    "\n",
    "plt.show()"
   ]
  },
  {
   "cell_type": "code",
   "execution_count": null,
   "metadata": {},
   "outputs": [],
   "source": [
    "# Plot number overlaps for attractor municipalities\n",
    "\n",
    "att_only = phase_1.loc[phase_1['CVEGEO'].isin(attractors['cve_mun'])]\n",
    "\n",
    "att_only = att_only.drop(['CVEGEO', 'CVE_ENT', 'CVE_MUN', 'NOMGEO', 'area'], axis=1)\n",
    "\n",
    "att_overlap_count = att_only.astype(bool).sum()\n",
    "\n",
    "att_overlap_count = att_overlap_count - 1\n",
    "    \n",
    "fig, axes = plt.subplots(nrows=3)\n",
    "\n",
    "for i in range(3):\n",
    "    att_overlap_count_sample = att_overlap_count.iloc[i*50:i*50+50]\n",
    "    att_overlap_count_sample.plot.bar(ax=axes[i], figsize=(15,25), rot=90);"
   ]
  },
  {
   "cell_type": "code",
   "execution_count": null,
   "metadata": {},
   "outputs": [],
   "source": [
    "# Summary of attractor overlaps\n",
    "\n",
    "att_overlap_count.describe()"
   ]
  },
  {
   "cell_type": "code",
   "execution_count": null,
   "metadata": {},
   "outputs": [],
   "source": [
    "# Distribution histogram of attractor overlaps\n",
    "\n",
    "bins = np.arange(0, 60, 1) # fixed bin size\n",
    "\n",
    "plt.xlim([min(att_overlap_count)-5, max(att_overlap_count)+5])\n",
    "\n",
    "plt.hist(att_overlap_count, bins=bins)\n",
    "plt.title('Attractor municipaltiy overlap distribution')\n",
    "plt.xlabel('Number of overlaps')\n",
    "plt.ylabel('Count')\n",
    "\n",
    "plt.show()"
   ]
  },
  {
   "cell_type": "code",
   "execution_count": null,
   "metadata": {},
   "outputs": [],
   "source": []
  }
 ],
 "metadata": {
  "kernelspec": {
   "display_name": "Python 3",
   "language": "python",
   "name": "python3"
  },
  "language_info": {
   "codemirror_mode": {
    "name": "ipython",
    "version": 3
   },
   "file_extension": ".py",
   "mimetype": "text/x-python",
   "name": "python",
   "nbconvert_exporter": "python",
   "pygments_lexer": "ipython3",
   "version": "3.7.4"
  }
 },
 "nbformat": 4,
 "nbformat_minor": 2
}
