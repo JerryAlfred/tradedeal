{
 "cells": [
  {
   "cell_type": "code",
   "execution_count": null,
   "metadata": {},
   "outputs": [],
   "source": [
    "from functools import partial\n",
    "import pyproj\n",
    "from shapely.ops import transform\n",
    "from shapely.geometry import Point\n",
    "\n",
    "proj_wgs84 = pyproj.Proj(init='epsg:4326')\n",
    "\n",
    "\n",
    "def find_circle_3(point, radius_individual):\n",
    "\n",
    "    lat = point.x\n",
    "    lon = point.y\n",
    "    \n",
    "    km = radius_individual\n",
    "    \n",
    "    # Azimuthal equidistant projection\n",
    "    aeqd_proj = '+proj=aeqd +lat_0={lat} +lon_0={lon} +x_0=0 +y_0=0'\n",
    "    project = partial(\n",
    "        pyproj.transform,\n",
    "        pyproj.Proj(aeqd_proj.format(lat=lat, lon=lon)),\n",
    "        proj_wgs84)\n",
    "    buf = Point(0, 0).buffer(km * 1000)  # distance in metres\n",
    "    return Polygon(transform(project, buf).exterior.coords[:])\n",
    "\n",
    "\n",
    "c = find_circle_3(Point(10, 80), 100.0)\n",
    "\n",
    "print(c)"
   ]
  },
  {
   "cell_type": "code",
   "execution_count": null,
   "metadata": {},
   "outputs": [],
   "source": [
    "from functools import partial\n",
    "import pyproj\n",
    "from shapely.ops import transform\n",
    "from shapely.geometry import Point\n",
    "\n",
    "proj_wgs84 = pyproj.Proj(init='epsg:4326')\n",
    "\n",
    "\n",
    "def find_circle_3(point, radius_individual):\n",
    "\n",
    "    lat = point.x\n",
    "    lon = point.y\n",
    "    \n",
    "    km = radius_individual\n",
    "    \n",
    "    # Azimuthal equidistant projection\n",
    "    aeqd_proj = '+proj=aeqd +lat_0={lat} +lon_0={lon} +x_0=0 +y_0=0'\n",
    "    project = partial(\n",
    "        pyproj.transform,\n",
    "        pyproj.Proj(aeqd_proj.format(lat=lat, lon=lon)),\n",
    "        proj_wgs84)\n",
    "    buf = Point(0, 0).buffer(km * 1000)  # distance in metres\n",
    "    return Polygon(transform(project, buf).exterior.coords[:])\n",
    "\n",
    "\n",
    "c = find_circle_3(Point(114.10,30.20), 100.0)\n",
    "\n",
    "\n",
    "# Example\n",
    "# c = find_circle_3(Point(-114.9572143003527,30.03650954819659), 100.0)\n",
    "\n",
    "print(c)"
   ]
  },
  {
   "cell_type": "code",
   "execution_count": null,
   "metadata": {},
   "outputs": [],
   "source": [
    "def find_circle_3(point, radius_individual):\n",
    "\n",
    "    local_azimuthal_projection = f\"+proj=aeqd +R=6371000 +units=m +lat_0={point.y} +lon_0={point.x}\"\n",
    "\n",
    "    wgs84_to_aeqd = partial(\n",
    "        pyproj.transform,\n",
    "        pyproj.Proj('+proj=longlat +datum=WGS84 +no_defs'),\n",
    "        pyproj.Proj(local_azimuthal_projection),\n",
    "    )\n",
    "\n",
    "    aeqd_to_wgs84 = partial(\n",
    "        pyproj.transform,\n",
    "        pyproj.Proj(local_azimuthal_projection),\n",
    "        pyproj.Proj('+proj=longlat +datum=WGS84 +no_defs'),\n",
    "    )\n",
    "    \n",
    "    point_transformed = transform(wgs84_to_aeqd, point)\n",
    "\n",
    "    buffer = point_transformed.buffer(radius_individual*1000)\n",
    "\n",
    "    buffer_wgs84 = transform(aeqd_to_wgs84, buffer)\n",
    "\n",
    "    return (Polygon(buffer_wgs84))\n"
   ]
  },
  {
   "cell_type": "code",
   "execution_count": null,
   "metadata": {},
   "outputs": [],
   "source": []
  },
  {
   "cell_type": "code",
   "execution_count": null,
   "metadata": {},
   "outputs": [],
   "source": []
  }
 ],
 "metadata": {
  "kernelspec": {
   "display_name": "Python 3",
   "language": "python",
   "name": "python3"
  },
  "language_info": {
   "codemirror_mode": {
    "name": "ipython",
    "version": 3
   },
   "file_extension": ".py",
   "mimetype": "text/x-python",
   "name": "python",
   "nbconvert_exporter": "python",
   "pygments_lexer": "ipython3",
   "version": "3.7.4"
  }
 },
 "nbformat": 4,
 "nbformat_minor": 2
}
